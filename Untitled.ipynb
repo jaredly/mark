{
 "cells": [
  {
   "cell_type": "code",
   "execution_count": 63,
   "metadata": {
    "collapsed": false
   },
   "outputs": [
    {
     "data": {
      "text/plain": [
       "<mpl_toolkits.mplot3d.art3d.Poly3DCollection at 0x113e78ac8>"
      ]
     },
     "execution_count": 63,
     "metadata": {},
     "output_type": "execute_result"
    },
    {
     "data": {
      "image/png": "[encoded data removed]",
      "text/plain": [
       "<matplotlib.figure.Figure at 0x113dd92b0>"
      ]
     },
     "metadata": {},
     "output_type": "display_data"
    }
   ],
   "source": [
    "from mpl_toolkits.mplot3d import Axes3D\n",
    "fig = plt.figure()\n",
    "ax = fig.add_subplot(111, projection='3d')\n",
    "x = arange(-1, 1, .01)\n",
    "y = sin(arange(-10, 10, .1))\n",
    "z = cos(arange(-10, 10, .1))**2\n",
    "ax.plot_surface(x, y, z)"
   ]
  },
  {
   "cell_type": "code",
   "execution_count": 92,
   "metadata": {
    "collapsed": false
   },
   "outputs": [],
   "source": [
    "ax.plot_surface?"
   ]
  },
  {
   "cell_type": "code",
   "execution_count": 107,
   "metadata": {
    "collapsed": false
   },
   "outputs": [
    {
     "data": {
      "text/plain": [
       "<mpl_toolkits.mplot3d.art3d.Poly3DCollection at 0x117736160>"
      ]
     },
     "execution_count": 107,
     "metadata": {},
     "output_type": "execute_result"
    }
   ],
   "source": [
    "fig = plt.figure()\n",
    "ax = fig.add_subplot(111, projection='3d')\n",
    "\n",
    "u = np.linspace(0, 2 * np.pi, 100)\n",
    "v = np.linspace(0, np.pi, 100)\n",
    "\n",
    "x = 10 * np.outer(np.cos(u), np.sin(v))\n",
    "y = 10 * np.outer(np.sin(u), np.sin(v))\n",
    "z = 10 * np.outer(np.ones(np.size(u)), np.cos(v))\n",
    "ax.plot_surface(x[:20], y[:20], z[:20],  rstride=30, cstride=30, color='b')"
   ]
  },
  {
   "cell_type": "code",
   "execution_count": 84,
   "metadata": {
    "collapsed": false,
    "scrolled": true
   },
   "outputs": [
    {
     "data": {
      "text/plain": [
       "array([  0.00000000e+00,   3.17279335e-01,   6.34239197e-01,\n",
       "         9.50560433e-01,   1.26592454e+00,   1.58001396e+00,\n",
       "         1.89251244e+00,   2.20310533e+00,   2.51147987e+00,\n",
       "         2.81732557e+00,   3.12033446e+00,   3.42020143e+00,\n",
       "         3.71662456e+00,   4.00930535e+00,   4.29794912e+00,\n",
       "         4.58226522e+00,   4.86196736e+00,   5.13677392e+00,\n",
       "         5.40640817e+00,   5.67059864e+00,   5.92907929e+00,\n",
       "         6.18158986e+00,   6.42787610e+00,   6.66769001e+00,\n",
       "         6.90079011e+00,   7.12694171e+00,   7.34591709e+00,\n",
       "         7.55749574e+00,   7.76146464e+00,   7.95761841e+00,\n",
       "         8.14575952e+00,   8.32569855e+00,   8.49725430e+00,\n",
       "         8.66025404e+00,   8.81453363e+00,   8.95993774e+00,\n",
       "         9.09631995e+00,   9.22354294e+00,   9.34147860e+00,\n",
       "         9.45000819e+00,   9.54902241e+00,   9.63842159e+00,\n",
       "         9.71811568e+00,   9.78802446e+00,   9.84807753e+00,\n",
       "         9.89821442e+00,   9.93838464e+00,   9.96854776e+00,\n",
       "         9.98867339e+00,   9.99874128e+00,   9.99874128e+00,\n",
       "         9.98867339e+00,   9.96854776e+00,   9.93838464e+00,\n",
       "         9.89821442e+00,   9.84807753e+00,   9.78802446e+00,\n",
       "         9.71811568e+00,   9.63842159e+00,   9.54902241e+00,\n",
       "         9.45000819e+00,   9.34147860e+00,   9.22354294e+00,\n",
       "         9.09631995e+00,   8.95993774e+00,   8.81453363e+00,\n",
       "         8.66025404e+00,   8.49725430e+00,   8.32569855e+00,\n",
       "         8.14575952e+00,   7.95761841e+00,   7.76146464e+00,\n",
       "         7.55749574e+00,   7.34591709e+00,   7.12694171e+00,\n",
       "         6.90079011e+00,   6.66769001e+00,   6.42787610e+00,\n",
       "         6.18158986e+00,   5.92907929e+00,   5.67059864e+00,\n",
       "         5.40640817e+00,   5.13677392e+00,   4.86196736e+00,\n",
       "         4.58226522e+00,   4.29794912e+00,   4.00930535e+00,\n",
       "         3.71662456e+00,   3.42020143e+00,   3.12033446e+00,\n",
       "         2.81732557e+00,   2.51147987e+00,   2.20310533e+00,\n",
       "         1.89251244e+00,   1.58001396e+00,   1.26592454e+00,\n",
       "         9.50560433e-01,   6.34239197e-01,   3.17279335e-01,\n",
       "         1.22464680e-15])"
      ]
     },
     "execution_count": 84,
     "metadata": {},
     "output_type": "execute_result"
    }
   ],
   "source": [
    "x[0]"
   ]
  },
  {
   "cell_type": "code",
   "execution_count": 100,
   "metadata": {
    "collapsed": false
   },
   "outputs": [],
   "source": [
    "plot(x[:,1]);"
   ]
  },
  {
   "cell_type": "code",
   "execution_count": 99,
   "metadata": {
    "collapsed": false
   },
   "outputs": [
    {
     "data": {
      "text/plain": [
       "<mpl_toolkits.mplot3d.art3d.Poly3DCollection at 0x1167a4438>"
      ]
     },
     "execution_count": 99,
     "metadata": {},
     "output_type": "execute_result"
    }
   ],
   "source": [
    "fig = plt.figure()\n",
    "ax = fig.add_subplot(111, projection='3d')\n",
    "\n",
    "u = np.linspace(0, 2 * np.pi, 100)\n",
    "v = np.linspace(0, np.pi, 100)\n",
    "\n",
    "x = 10 * np.outer(np.cos(u), np.sin(v))\n",
    "y = 10 * np.outer(np.sin(u), np.sin(v))\n",
    "z = 10 * np.outer(np.ones(np.size(u)), np.cos(v))\n",
    "#ax.plot_surface(x, y, z,  rstride=10, cstride=2, color='b')\n",
    "ax.plot_surface([[0,0],[1,1]], [[0,0],[1,1]], [[1,0],[1,1]])"
   ]
  },
  {
   "cell_type": "code",
   "execution_count": 97,
   "metadata": {
    "collapsed": false
   },
   "outputs": [
    {
     "name": "stdout",
     "output_type": "stream",
     "text": [
      "Using matplotlib backend: MacOSX\n",
      "Populating the interactive namespace from numpy and matplotlib\n"
     ]
    }
   ],
   "source": [
    "%pylab"
   ]
  },
  {
   "cell_type": "code",
   "execution_count": null,
   "metadata": {
    "collapsed": true
   },
   "outputs": [],
   "source": [
    "\n",
    "\n",
    "\n",
    "\n",
    "\n",
    "\n",
    "\n",
    "\n",
    "\n",
    "\n",
    "\n",
    "\n",
    "\n",
    "\n",
    "\n",
    "\n",
    "\n",
    "\n",
    "\n",
    "\n",
    "\n",
    "\n",
    "\n",
    "\n",
    "\n",
    "\n"
   ]
  },
  {
   "cell_type": "code",
   "execution_count": null,
   "metadata": {
    "collapsed": true
   },
   "outputs": [],
   "source": []
  }
 ],
 "metadata": {
  "kernelspec": {
   "display_name": "Python 3",
   "language": "python",
   "name": "python3"
  },
  "language_info": {
   "codemirror_mode": {
    "name": "ipython",
    "version": 3
   },
   "file_extension": ".py",
   "mimetype": "text/x-python",
   "name": "python",
   "nbconvert_exporter": "python",
   "pygments_lexer": "ipython3",
   "version": "3.4.3"
  }
 },
 "nbformat": 4,
 "nbformat_minor": 0
}
